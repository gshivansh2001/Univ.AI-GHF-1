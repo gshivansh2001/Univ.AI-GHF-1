{
  "nbformat": 4,
  "nbformat_minor": 0,
  "metadata": {
    "kernelspec": {
      "display_name": "Python 3",
      "language": "python",
      "name": "python3"
    },
    "language_info": {
      "codemirror_mode": {
        "name": "ipython",
        "version": 3
      },
      "file_extension": ".py",
      "mimetype": "text/x-python",
      "name": "python",
      "nbconvert_exporter": "python",
      "pygments_lexer": "ipython3",
      "version": "3.7.4"
    },
    "colab": {
      "name": "Result.ipynb",
      "provenance": []
    }
  },
  "cells": [
    {
      "cell_type": "markdown",
      "metadata": {
        "id": "TAdzFUWggtkS"
      },
      "source": [
        "\n",
        "# Import Python libraries."
      ]
    },
    {
      "cell_type": "code",
      "metadata": {
        "id": "PVbg6PNwgtk-"
      },
      "source": [
        "import pandas as pd\n",
        "import numpy as np\n",
        "import matplotlib.pyplot as plt"
      ],
      "execution_count": 2,
      "outputs": []
    },
    {
      "cell_type": "markdown",
      "metadata": {
        "id": "u7WstH5IgtlC"
      },
      "source": [
        "# Import Datasets"
      ]
    },
    {
      "cell_type": "code",
      "metadata": {
        "id": "q0y2yB-ygtlE"
      },
      "source": [
        "df_train = pd.read_csv(\"Training Data.csv\")\n",
        "df_test = pd.read_csv(\"Test Data.csv\")"
      ],
      "execution_count": 19,
      "outputs": []
    },
    {
      "cell_type": "markdown",
      "metadata": {
        "id": "fZwfXx5WgtlF"
      },
      "source": [
        "# Check how train dataset looks like."
      ]
    },
    {
      "cell_type": "code",
      "metadata": {
        "colab": {
          "base_uri": "https://localhost:8080/",
          "height": 224
        },
        "id": "VjVk3rELgtlH",
        "outputId": "7a869279-835d-4f92-822d-d83b20abc915"
      },
      "source": [
        "df_train.head()"
      ],
      "execution_count": 20,
      "outputs": [
        {
          "output_type": "execute_result",
          "data": {
            "text/html": [
              "<div>\n",
              "<style scoped>\n",
              "    .dataframe tbody tr th:only-of-type {\n",
              "        vertical-align: middle;\n",
              "    }\n",
              "\n",
              "    .dataframe tbody tr th {\n",
              "        vertical-align: top;\n",
              "    }\n",
              "\n",
              "    .dataframe thead th {\n",
              "        text-align: right;\n",
              "    }\n",
              "</style>\n",
              "<table border=\"1\" class=\"dataframe\">\n",
              "  <thead>\n",
              "    <tr style=\"text-align: right;\">\n",
              "      <th></th>\n",
              "      <th>Id</th>\n",
              "      <th>income</th>\n",
              "      <th>age</th>\n",
              "      <th>experience</th>\n",
              "      <th>married</th>\n",
              "      <th>house_ownership</th>\n",
              "      <th>car_ownership</th>\n",
              "      <th>profession</th>\n",
              "      <th>city</th>\n",
              "      <th>state</th>\n",
              "      <th>current_job_years</th>\n",
              "      <th>current_house_years</th>\n",
              "      <th>risk_flag</th>\n",
              "    </tr>\n",
              "  </thead>\n",
              "  <tbody>\n",
              "    <tr>\n",
              "      <th>0</th>\n",
              "      <td>1</td>\n",
              "      <td>1303835</td>\n",
              "      <td>23</td>\n",
              "      <td>3</td>\n",
              "      <td>single</td>\n",
              "      <td>rented</td>\n",
              "      <td>no</td>\n",
              "      <td>Mechanical_engineer</td>\n",
              "      <td>Rewa</td>\n",
              "      <td>Madhya_Pradesh</td>\n",
              "      <td>3</td>\n",
              "      <td>13</td>\n",
              "      <td>0</td>\n",
              "    </tr>\n",
              "    <tr>\n",
              "      <th>1</th>\n",
              "      <td>2</td>\n",
              "      <td>7574516</td>\n",
              "      <td>40</td>\n",
              "      <td>10</td>\n",
              "      <td>single</td>\n",
              "      <td>rented</td>\n",
              "      <td>no</td>\n",
              "      <td>Software_Developer</td>\n",
              "      <td>Parbhani</td>\n",
              "      <td>Maharashtra</td>\n",
              "      <td>9</td>\n",
              "      <td>13</td>\n",
              "      <td>0</td>\n",
              "    </tr>\n",
              "    <tr>\n",
              "      <th>2</th>\n",
              "      <td>3</td>\n",
              "      <td>3991815</td>\n",
              "      <td>66</td>\n",
              "      <td>4</td>\n",
              "      <td>married</td>\n",
              "      <td>rented</td>\n",
              "      <td>no</td>\n",
              "      <td>Technical_writer</td>\n",
              "      <td>Alappuzha</td>\n",
              "      <td>Kerala</td>\n",
              "      <td>4</td>\n",
              "      <td>10</td>\n",
              "      <td>0</td>\n",
              "    </tr>\n",
              "    <tr>\n",
              "      <th>3</th>\n",
              "      <td>4</td>\n",
              "      <td>6256451</td>\n",
              "      <td>41</td>\n",
              "      <td>2</td>\n",
              "      <td>single</td>\n",
              "      <td>rented</td>\n",
              "      <td>yes</td>\n",
              "      <td>Software_Developer</td>\n",
              "      <td>Bhubaneswar</td>\n",
              "      <td>Odisha</td>\n",
              "      <td>2</td>\n",
              "      <td>12</td>\n",
              "      <td>1</td>\n",
              "    </tr>\n",
              "    <tr>\n",
              "      <th>4</th>\n",
              "      <td>5</td>\n",
              "      <td>5768871</td>\n",
              "      <td>47</td>\n",
              "      <td>11</td>\n",
              "      <td>single</td>\n",
              "      <td>rented</td>\n",
              "      <td>no</td>\n",
              "      <td>Civil_servant</td>\n",
              "      <td>Tiruchirappalli[10]</td>\n",
              "      <td>Tamil_Nadu</td>\n",
              "      <td>3</td>\n",
              "      <td>14</td>\n",
              "      <td>1</td>\n",
              "    </tr>\n",
              "  </tbody>\n",
              "</table>\n",
              "</div>"
            ],
            "text/plain": [
              "   Id   income  age  ...  current_job_years current_house_years risk_flag\n",
              "0   1  1303835   23  ...                  3                  13         0\n",
              "1   2  7574516   40  ...                  9                  13         0\n",
              "2   3  3991815   66  ...                  4                  10         0\n",
              "3   4  6256451   41  ...                  2                  12         1\n",
              "4   5  5768871   47  ...                  3                  14         1\n",
              "\n",
              "[5 rows x 13 columns]"
            ]
          },
          "metadata": {
            "tags": []
          },
          "execution_count": 20
        }
      ]
    },
    {
      "cell_type": "markdown",
      "metadata": {
        "id": "m3_TlhIFgtlI"
      },
      "source": [
        "# Convert datatype of selected fields."
      ]
    },
    {
      "cell_type": "code",
      "metadata": {
        "id": "fD2VwIVekpni"
      },
      "source": [
        "df_train = df_train.drop('Id',axis=1)\n",
        "df_test = df_test.drop('id',axis=1)"
      ],
      "execution_count": 21,
      "outputs": []
    },
    {
      "cell_type": "code",
      "metadata": {
        "id": "3xR9LGMdkpMU"
      },
      "source": [
        "#\"married\" feature into dummy\n",
        "subgrade_dummies = pd.get_dummies(df_train['married'],drop_first=True)\n",
        "df_train = pd.concat([df_train.drop('married',axis=1),subgrade_dummies],axis=1)\n",
        "\n",
        "#\"house_ownership\" feature into dummy\n",
        "dummy = pd.get_dummies(df_train['house_ownership'],drop_first=True)\n",
        "df_train = pd.concat([df_train.drop('house_ownership',axis=1),dummy],axis=1)\n",
        "\n",
        "#\"car_ownership\" feature into dummy\n",
        "dummy = pd.get_dummies(df_train['car_ownership'],drop_first=True)\n",
        "df_train = pd.concat([df_train.drop('car_ownership',axis=1),dummy],axis=1)\n",
        "\n",
        "#\"profession\" feature into dummy\n",
        "dummy = pd.get_dummies(df_train['profession'],drop_first=True)\n",
        "df_train = pd.concat([df_train.drop('profession',axis=1),dummy],axis=1)\n",
        "\n",
        "#\"profession\" feature into dummy\n",
        "dummy = pd.get_dummies(df_train['state'],drop_first=True)\n",
        "df_train = pd.concat([df_train.drop('state',axis=1),dummy],axis=1)\n",
        "\n",
        "#\"profession\" feature into dummy\n",
        "dummy = pd.get_dummies(df_train['city'],drop_first=True)\n",
        "df_train = pd.concat([df_train.drop('city',axis=1),dummy],axis=1)\n",
        "\n",
        "#\"profession\" feature into dummy\n",
        "dummy = pd.get_dummies(df_train['age'],drop_first=True)\n",
        "df_train = pd.concat([df_train.drop('age',axis=1),dummy],axis=1)\n",
        "\n",
        "#\"profession\" feature into dummy\n",
        "dummy = pd.get_dummies(df_train['experience'],drop_first=True)\n",
        "df_train = pd.concat([df_train.drop('experience',axis=1),dummy],axis=1)\n",
        "\n",
        "#\"profession\" feature into dummy\n",
        "dummy = pd.get_dummies(df_train['current_job_years'],drop_first=True)\n",
        "df_train = pd.concat([df_train.drop('current_job_years',axis=1),dummy],axis=1)\n",
        "\n",
        "#\"profession\" feature into dummy\n",
        "dummy = pd.get_dummies(df_train['current_house_years'],drop_first=True)\n",
        "df_train = pd.concat([df_train.drop('current_house_years',axis=1),dummy],axis=1)\n",
        "\n",
        "#feature scaling \n",
        "from sklearn.preprocessing import MinMaxScaler\n",
        "\n",
        "dfr = df_train['income']\n",
        "dfr = np.array(dfr)\n",
        "dfr = dfr.reshape(-1,1)\n",
        "\n",
        "scaler = MinMaxScaler()\n",
        "dfr = scaler.fit_transform(dfr)\n",
        "df_train['income'] = dfr"
      ],
      "execution_count": 22,
      "outputs": []
    },
    {
      "cell_type": "code",
      "metadata": {
        "id": "CUq-UWERko6L"
      },
      "source": [
        "#\"married\" feature into dummy\n",
        "subgrade_dummies = pd.get_dummies(df_test['married'],drop_first=True)\n",
        "df_test = pd.concat([df_test.drop('married',axis=1),subgrade_dummies],axis=1)\n",
        "\n",
        "#\"house_ownership\" feature into dummy\n",
        "dummy = pd.get_dummies(df_test['house_ownership'],drop_first=True)\n",
        "df_test = pd.concat([df_test.drop('house_ownership',axis=1),dummy],axis=1)\n",
        "\n",
        "#\"car_ownership\" feature into dummy\n",
        "dummy = pd.get_dummies(df_test['car_ownership'],drop_first=True)\n",
        "df_test = pd.concat([df_test.drop('car_ownership',axis=1),dummy],axis=1)\n",
        "\n",
        "#\"profession\" feature into dummy\n",
        "dummy = pd.get_dummies(df_test['profession'],drop_first=True)\n",
        "df_test = pd.concat([df_test.drop('profession',axis=1),dummy],axis=1)\n",
        "\n",
        "#\"profession\" feature into dummy\n",
        "dummy = pd.get_dummies(df_test['state'],drop_first=True)\n",
        "df_test = pd.concat([df_test.drop('state',axis=1),dummy],axis=1)\n",
        "\n",
        "#\"profession\" feature into dummy\n",
        "dummy = pd.get_dummies(df_test['city'],drop_first=True)\n",
        "df_test = pd.concat([df_test.drop('city',axis=1),dummy],axis=1)\n",
        "\n",
        "#\"profession\" feature into dummy\n",
        "dummy = pd.get_dummies(df_test['age'],drop_first=True)\n",
        "df_test = pd.concat([df_test.drop('age',axis=1),dummy],axis=1)\n",
        "\n",
        "#\"profession\" feature into dummy\n",
        "dummy = pd.get_dummies(df_test['experience'],drop_first=True)\n",
        "df_test = pd.concat([df_test.drop('experience',axis=1),dummy],axis=1)\n",
        "\n",
        "#\"profession\" feature into dummy\n",
        "dummy = pd.get_dummies(df_test['current_job_years'],drop_first=True)\n",
        "df_test = pd.concat([df_test.drop('current_job_years',axis=1),dummy],axis=1)\n",
        "\n",
        "#\"profession\" feature into dummy\n",
        "dummy = pd.get_dummies(df_test['current_house_years'],drop_first=True)\n",
        "df_test = pd.concat([df_test.drop('current_house_years',axis=1),dummy],axis=1)\n",
        "\n",
        "#feature scaling \n",
        "from sklearn.preprocessing import MinMaxScaler\n",
        "\n",
        "dfr = df_test['income']\n",
        "dfr = np.array(dfr)\n",
        "dfr = dfr.reshape(-1,1)\n",
        "\n",
        "scaler = MinMaxScaler()\n",
        "dfr = scaler.fit_transform(dfr)\n",
        "df_test['income'] = dfr"
      ],
      "execution_count": 23,
      "outputs": []
    },
    {
      "cell_type": "markdown",
      "metadata": {
        "id": "4s0lE2b3gtlQ"
      },
      "source": [
        "# Drop the dependent variable from the train/test dataset. "
      ]
    },
    {
      "cell_type": "code",
      "metadata": {
        "id": "DLbYaB_7jXPc"
      },
      "source": [
        "from sklearn.model_selection import train_test_split\n",
        "\n",
        "X = df_train.drop('risk_flag',axis=1)\n",
        "y = df_train['risk_flag']\n",
        "\n",
        "X_train,X_cv,y_train,y_cv = train_test_split(X,y,test_size=0.3,random_state=101)"
      ],
      "execution_count": 26,
      "outputs": []
    },
    {
      "cell_type": "markdown",
      "metadata": {
        "id": "j-_z1E_sgtla"
      },
      "source": [
        "# Train your model"
      ]
    },
    {
      "cell_type": "code",
      "metadata": {
        "colab": {
          "base_uri": "https://localhost:8080/"
        },
        "id": "7ZBxVN6Egtlb",
        "outputId": "c7a2b059-7cc0-48fa-c69e-95477a42dbf8"
      },
      "source": [
        "from sklearn.linear_model import LogisticRegression\n",
        "\n",
        "lr = LogisticRegression(max_iter=10000000000)\n",
        "lr.fit(X_train,y_train)"
      ],
      "execution_count": 33,
      "outputs": [
        {
          "output_type": "execute_result",
          "data": {
            "text/plain": [
              "LogisticRegression(C=1.0, class_weight=None, dual=False, fit_intercept=True,\n",
              "                   intercept_scaling=1, l1_ratio=None, max_iter=10000000000,\n",
              "                   multi_class='auto', n_jobs=None, penalty='l2',\n",
              "                   random_state=None, solver='lbfgs', tol=0.0001, verbose=0,\n",
              "                   warm_start=False)"
            ]
          },
          "metadata": {
            "tags": []
          },
          "execution_count": 33
        }
      ]
    },
    {
      "cell_type": "markdown",
      "metadata": {
        "id": "S0f4oFKPgtlc"
      },
      "source": [
        "# Test your model "
      ]
    },
    {
      "cell_type": "code",
      "metadata": {
        "id": "4Kb6UZKemZlg"
      },
      "source": [
        "thershold = 0.425\n",
        "pred = np.where(lr.predict_proba(X_cv)[:,1] > thershold, 1, 0)"
      ],
      "execution_count": 34,
      "outputs": []
    },
    {
      "cell_type": "code",
      "metadata": {
        "colab": {
          "base_uri": "https://localhost:8080/"
        },
        "id": "4TUFb_Ocgtle",
        "outputId": "e396d690-e829-481a-f652-6a58d54260f8"
      },
      "source": [
        "pred"
      ],
      "execution_count": 36,
      "outputs": [
        {
          "output_type": "execute_result",
          "data": {
            "text/plain": [
              "array([0, 0, 0, ..., 0, 0, 0])"
            ]
          },
          "metadata": {
            "tags": []
          },
          "execution_count": 36
        }
      ]
    },
    {
      "cell_type": "markdown",
      "metadata": {
        "id": "a5tSW4I6gtlf"
      },
      "source": [
        "# Check your roc_auc_score "
      ]
    },
    {
      "cell_type": "code",
      "metadata": {
        "colab": {
          "base_uri": "https://localhost:8080/"
        },
        "id": "pAZXLVGQgtlf",
        "outputId": "e2b3657c-d5b3-4934-bafa-0dd235cf94e8"
      },
      "source": [
        "from sklearn.metrics import roc_auc_score\n",
        "auc = roc_auc_score(pred, y_cv)\n",
        "print('ROC AUC: %f' % auc)\n"
      ],
      "execution_count": 37,
      "outputs": [
        {
          "output_type": "stream",
          "text": [
            "ROC AUC: 0.782309\n"
          ],
          "name": "stdout"
        }
      ]
    },
    {
      "cell_type": "code",
      "metadata": {
        "colab": {
          "base_uri": "https://localhost:8080/"
        },
        "id": "1DNrIhFZgtlg",
        "outputId": "b8dfa427-3098-47da-dbfc-3ab9ae4b3e34"
      },
      "source": [
        "print(classification_report(y_cv, y_pred))"
      ],
      "execution_count": 40,
      "outputs": [
        {
          "output_type": "stream",
          "text": [
            "              precision    recall  f1-score   support\n",
            "\n",
            "           0       0.94      0.93      0.93     66292\n",
            "           1       0.52      0.55      0.54      9308\n",
            "\n",
            "    accuracy                           0.88     75600\n",
            "   macro avg       0.73      0.74      0.74     75600\n",
            "weighted avg       0.89      0.88      0.88     75600\n",
            "\n"
          ],
          "name": "stdout"
        }
      ]
    }
  ]
}