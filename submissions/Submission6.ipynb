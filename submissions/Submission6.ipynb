{
  "nbformat": 4,
  "nbformat_minor": 0,
  "metadata": {
    "kernelspec": {
      "display_name": "Python 3",
      "language": "python",
      "name": "python3"
    },
    "language_info": {
      "codemirror_mode": {
        "name": "ipython",
        "version": 3
      },
      "file_extension": ".py",
      "mimetype": "text/x-python",
      "name": "python",
      "nbconvert_exporter": "python",
      "pygments_lexer": "ipython3",
      "version": "3.7.4"
    },
    "colab": {
      "name": "Submission6.ipynb",
      "provenance": []
    }
  },
  "cells": [
    {
      "cell_type": "markdown",
      "metadata": {
        "id": "TAdzFUWggtkS"
      },
      "source": [
        "\n",
        "# Import Python libraries."
      ]
    },
    {
      "cell_type": "code",
      "metadata": {
        "id": "PVbg6PNwgtk-"
      },
      "source": [
        "import pandas as pd\n",
        "import numpy as np\n",
        "import matplotlib.pyplot as plt"
      ],
      "execution_count": 1,
      "outputs": []
    },
    {
      "cell_type": "markdown",
      "metadata": {
        "id": "u7WstH5IgtlC"
      },
      "source": [
        "# Import Datasets"
      ]
    },
    {
      "cell_type": "code",
      "metadata": {
        "id": "q0y2yB-ygtlE"
      },
      "source": [
        "df_train = pd.read_csv(\"Training Data.csv\")\n",
        "df_test = pd.read_csv(\"Test Data.csv\")"
      ],
      "execution_count": 2,
      "outputs": []
    },
    {
      "cell_type": "markdown",
      "metadata": {
        "id": "fZwfXx5WgtlF"
      },
      "source": [
        "# Check how train dataset looks like."
      ]
    },
    {
      "cell_type": "code",
      "metadata": {
        "colab": {
          "base_uri": "https://localhost:8080/",
          "height": 224
        },
        "id": "VjVk3rELgtlH",
        "outputId": "24562d62-f672-45c3-b9d3-42d2137b25d3"
      },
      "source": [
        "df_train.head()"
      ],
      "execution_count": 3,
      "outputs": [
        {
          "output_type": "execute_result",
          "data": {
            "text/html": [
              "<div>\n",
              "<style scoped>\n",
              "    .dataframe tbody tr th:only-of-type {\n",
              "        vertical-align: middle;\n",
              "    }\n",
              "\n",
              "    .dataframe tbody tr th {\n",
              "        vertical-align: top;\n",
              "    }\n",
              "\n",
              "    .dataframe thead th {\n",
              "        text-align: right;\n",
              "    }\n",
              "</style>\n",
              "<table border=\"1\" class=\"dataframe\">\n",
              "  <thead>\n",
              "    <tr style=\"text-align: right;\">\n",
              "      <th></th>\n",
              "      <th>Id</th>\n",
              "      <th>income</th>\n",
              "      <th>age</th>\n",
              "      <th>experience</th>\n",
              "      <th>married</th>\n",
              "      <th>house_ownership</th>\n",
              "      <th>car_ownership</th>\n",
              "      <th>profession</th>\n",
              "      <th>city</th>\n",
              "      <th>state</th>\n",
              "      <th>current_job_years</th>\n",
              "      <th>current_house_years</th>\n",
              "      <th>risk_flag</th>\n",
              "    </tr>\n",
              "  </thead>\n",
              "  <tbody>\n",
              "    <tr>\n",
              "      <th>0</th>\n",
              "      <td>1</td>\n",
              "      <td>1303835</td>\n",
              "      <td>23</td>\n",
              "      <td>3</td>\n",
              "      <td>single</td>\n",
              "      <td>rented</td>\n",
              "      <td>no</td>\n",
              "      <td>Mechanical_engineer</td>\n",
              "      <td>Rewa</td>\n",
              "      <td>Madhya_Pradesh</td>\n",
              "      <td>3</td>\n",
              "      <td>13</td>\n",
              "      <td>0</td>\n",
              "    </tr>\n",
              "    <tr>\n",
              "      <th>1</th>\n",
              "      <td>2</td>\n",
              "      <td>7574516</td>\n",
              "      <td>40</td>\n",
              "      <td>10</td>\n",
              "      <td>single</td>\n",
              "      <td>rented</td>\n",
              "      <td>no</td>\n",
              "      <td>Software_Developer</td>\n",
              "      <td>Parbhani</td>\n",
              "      <td>Maharashtra</td>\n",
              "      <td>9</td>\n",
              "      <td>13</td>\n",
              "      <td>0</td>\n",
              "    </tr>\n",
              "    <tr>\n",
              "      <th>2</th>\n",
              "      <td>3</td>\n",
              "      <td>3991815</td>\n",
              "      <td>66</td>\n",
              "      <td>4</td>\n",
              "      <td>married</td>\n",
              "      <td>rented</td>\n",
              "      <td>no</td>\n",
              "      <td>Technical_writer</td>\n",
              "      <td>Alappuzha</td>\n",
              "      <td>Kerala</td>\n",
              "      <td>4</td>\n",
              "      <td>10</td>\n",
              "      <td>0</td>\n",
              "    </tr>\n",
              "    <tr>\n",
              "      <th>3</th>\n",
              "      <td>4</td>\n",
              "      <td>6256451</td>\n",
              "      <td>41</td>\n",
              "      <td>2</td>\n",
              "      <td>single</td>\n",
              "      <td>rented</td>\n",
              "      <td>yes</td>\n",
              "      <td>Software_Developer</td>\n",
              "      <td>Bhubaneswar</td>\n",
              "      <td>Odisha</td>\n",
              "      <td>2</td>\n",
              "      <td>12</td>\n",
              "      <td>1</td>\n",
              "    </tr>\n",
              "    <tr>\n",
              "      <th>4</th>\n",
              "      <td>5</td>\n",
              "      <td>5768871</td>\n",
              "      <td>47</td>\n",
              "      <td>11</td>\n",
              "      <td>single</td>\n",
              "      <td>rented</td>\n",
              "      <td>no</td>\n",
              "      <td>Civil_servant</td>\n",
              "      <td>Tiruchirappalli[10]</td>\n",
              "      <td>Tamil_Nadu</td>\n",
              "      <td>3</td>\n",
              "      <td>14</td>\n",
              "      <td>1</td>\n",
              "    </tr>\n",
              "  </tbody>\n",
              "</table>\n",
              "</div>"
            ],
            "text/plain": [
              "   Id   income  age  ...  current_job_years current_house_years risk_flag\n",
              "0   1  1303835   23  ...                  3                  13         0\n",
              "1   2  7574516   40  ...                  9                  13         0\n",
              "2   3  3991815   66  ...                  4                  10         0\n",
              "3   4  6256451   41  ...                  2                  12         1\n",
              "4   5  5768871   47  ...                  3                  14         1\n",
              "\n",
              "[5 rows x 13 columns]"
            ]
          },
          "metadata": {
            "tags": []
          },
          "execution_count": 3
        }
      ]
    },
    {
      "cell_type": "markdown",
      "metadata": {
        "id": "m3_TlhIFgtlI"
      },
      "source": [
        "# Convert datatype of selected fields."
      ]
    },
    {
      "cell_type": "code",
      "metadata": {
        "id": "fD2VwIVekpni"
      },
      "source": [
        "df_train = df_train.drop('Id',axis=1)\n",
        "df_test = df_test.drop('id',axis=1)"
      ],
      "execution_count": 4,
      "outputs": []
    },
    {
      "cell_type": "code",
      "metadata": {
        "id": "3xR9LGMdkpMU"
      },
      "source": [
        "#\"married\" feature into dummy\n",
        "subgrade_dummies = pd.get_dummies(df_train['married'],drop_first=True)\n",
        "df_train = pd.concat([df_train.drop('married',axis=1),subgrade_dummies],axis=1)\n",
        "\n",
        "#\"house_ownership\" feature into dummy\n",
        "dummy = pd.get_dummies(df_train['house_ownership'],drop_first=True)\n",
        "df_train = pd.concat([df_train.drop('house_ownership',axis=1),dummy],axis=1)\n",
        "\n",
        "#\"car_ownership\" feature into dummy\n",
        "dummy = pd.get_dummies(df_train['car_ownership'],drop_first=True)\n",
        "df_train = pd.concat([df_train.drop('car_ownership',axis=1),dummy],axis=1)\n",
        "\n",
        "#\"profession\" feature into dummy\n",
        "dummy = pd.get_dummies(df_train['profession'],drop_first=True)\n",
        "df_train = pd.concat([df_train.drop('profession',axis=1),dummy],axis=1)\n",
        "\n",
        "#\"profession\" feature into dummy\n",
        "dummy = pd.get_dummies(df_train['state'],drop_first=True)\n",
        "df_train = pd.concat([df_train.drop('state',axis=1),dummy],axis=1)\n",
        "\n",
        "#\"profession\" feature into dummy\n",
        "dummy = pd.get_dummies(df_train['city'],drop_first=True)\n",
        "df_train = pd.concat([df_train.drop('city',axis=1),dummy],axis=1)\n",
        "\n",
        "#\"profession\" feature into dummy\n",
        "dummy = pd.get_dummies(df_train['age'],drop_first=True)\n",
        "df_train = pd.concat([df_train.drop('age',axis=1),dummy],axis=1)\n",
        "\n",
        "#\"profession\" feature into dummy\n",
        "dummy = pd.get_dummies(df_train['experience'],drop_first=True)\n",
        "df_train = pd.concat([df_train.drop('experience',axis=1),dummy],axis=1)\n",
        "\n",
        "#\"profession\" feature into dummy\n",
        "dummy = pd.get_dummies(df_train['current_job_years'],drop_first=True)\n",
        "df_train = pd.concat([df_train.drop('current_job_years',axis=1),dummy],axis=1)\n",
        "\n",
        "#\"profession\" feature into dummy\n",
        "dummy = pd.get_dummies(df_train['current_house_years'],drop_first=True)\n",
        "df_train = pd.concat([df_train.drop('current_house_years',axis=1),dummy],axis=1)\n",
        "\n",
        "#feature scaling \n",
        "from sklearn.preprocessing import MinMaxScaler\n",
        "\n",
        "dfr = df_train['income']\n",
        "dfr = np.array(dfr)\n",
        "dfr = dfr.reshape(-1,1)\n",
        "\n",
        "scaler = MinMaxScaler()\n",
        "dfr = scaler.fit_transform(dfr)\n",
        "df_train['income'] = dfr"
      ],
      "execution_count": 5,
      "outputs": []
    },
    {
      "cell_type": "code",
      "metadata": {
        "id": "CUq-UWERko6L"
      },
      "source": [
        "#\"married\" feature into dummy\n",
        "subgrade_dummies = pd.get_dummies(df_test['married'],drop_first=True)\n",
        "df_test = pd.concat([df_test.drop('married',axis=1),subgrade_dummies],axis=1)\n",
        "\n",
        "#\"house_ownership\" feature into dummy\n",
        "dummy = pd.get_dummies(df_test['house_ownership'],drop_first=True)\n",
        "df_test = pd.concat([df_test.drop('house_ownership',axis=1),dummy],axis=1)\n",
        "\n",
        "#\"car_ownership\" feature into dummy\n",
        "dummy = pd.get_dummies(df_test['car_ownership'],drop_first=True)\n",
        "df_test = pd.concat([df_test.drop('car_ownership',axis=1),dummy],axis=1)\n",
        "\n",
        "#\"profession\" feature into dummy\n",
        "dummy = pd.get_dummies(df_test['profession'],drop_first=True)\n",
        "df_test = pd.concat([df_test.drop('profession',axis=1),dummy],axis=1)\n",
        "\n",
        "#\"profession\" feature into dummy\n",
        "dummy = pd.get_dummies(df_test['state'],drop_first=True)\n",
        "df_test = pd.concat([df_test.drop('state',axis=1),dummy],axis=1)\n",
        "\n",
        "#\"profession\" feature into dummy\n",
        "dummy = pd.get_dummies(df_test['city'],drop_first=True)\n",
        "df_test = pd.concat([df_test.drop('city',axis=1),dummy],axis=1)\n",
        "\n",
        "#\"profession\" feature into dummy\n",
        "dummy = pd.get_dummies(df_test['age'],drop_first=True)\n",
        "df_test = pd.concat([df_test.drop('age',axis=1),dummy],axis=1)\n",
        "\n",
        "#\"profession\" feature into dummy\n",
        "dummy = pd.get_dummies(df_test['experience'],drop_first=True)\n",
        "df_test = pd.concat([df_test.drop('experience',axis=1),dummy],axis=1)\n",
        "\n",
        "#\"profession\" feature into dummy\n",
        "dummy = pd.get_dummies(df_test['current_job_years'],drop_first=True)\n",
        "df_test = pd.concat([df_test.drop('current_job_years',axis=1),dummy],axis=1)\n",
        "\n",
        "#\"profession\" feature into dummy\n",
        "dummy = pd.get_dummies(df_test['current_house_years'],drop_first=True)\n",
        "df_test = pd.concat([df_test.drop('current_house_years',axis=1),dummy],axis=1)\n",
        "\n",
        "#feature scaling \n",
        "from sklearn.preprocessing import MinMaxScaler\n",
        "\n",
        "dfr = df_test['income']\n",
        "dfr = np.array(dfr)\n",
        "dfr = dfr.reshape(-1,1)\n",
        "\n",
        "scaler = MinMaxScaler()\n",
        "dfr = scaler.fit_transform(dfr)\n",
        "df_test['income'] = dfr"
      ],
      "execution_count": 6,
      "outputs": []
    },
    {
      "cell_type": "markdown",
      "metadata": {
        "id": "4s0lE2b3gtlQ"
      },
      "source": [
        "# Drop the dependent variable from the train/test dataset. "
      ]
    },
    {
      "cell_type": "code",
      "metadata": {
        "id": "DLbYaB_7jXPc"
      },
      "source": [
        "from sklearn.model_selection import train_test_split\n",
        "\n",
        "X = df_train.drop('risk_flag',axis=1)\n",
        "y = df_train['risk_flag']\n",
        "\n",
        "X_train,X_cv,y_train,y_cv = train_test_split(X,y,test_size=0.3,random_state=101)"
      ],
      "execution_count": 7,
      "outputs": []
    },
    {
      "cell_type": "markdown",
      "metadata": {
        "id": "j-_z1E_sgtla"
      },
      "source": [
        "# Train your model"
      ]
    },
    {
      "cell_type": "code",
      "metadata": {
        "id": "rTtySxnNCuPm"
      },
      "source": [
        "from tensorflow.keras.models import Sequential\n",
        "from tensorflow.keras.layers import Dense,Dropout,Flatten\n",
        "from tensorflow.keras.callbacks import EarlyStopping"
      ],
      "execution_count": 9,
      "outputs": []
    },
    {
      "cell_type": "code",
      "metadata": {
        "id": "Q08pyp1AC3B7"
      },
      "source": [
        "earlystop = EarlyStopping(monitor='val_loss',mode='min',verbose=1,patience=25)"
      ],
      "execution_count": 10,
      "outputs": []
    },
    {
      "cell_type": "code",
      "metadata": {
        "id": "bawb0vKIC36b"
      },
      "source": [
        "model = Sequential()\n",
        "\n",
        "model.add(Dense(495,activation='relu'))\n",
        "model.add(Dropout(0.2))\n",
        "model.add(Dense(124,activation='relu'))\n",
        "model.add(Dropout(0.2))\n",
        "model.add(Dense(31,activation='relu'))\n",
        "model.add(Dropout(0.2))\n",
        "model.add(Dense(8,activation='relu'))\n",
        "model.add(Dropout(0.2))\n",
        "model.add(Dense(2,activation='relu'))\n",
        "model.add(Dropout(0.2))\n",
        "#model.add(Dense(3,activation='relu'))\n",
        "#model.add(Dropout(0.2))\n",
        "\n",
        "\n",
        "model.add(Dense(1,activation='sigmoid'))\n",
        "\n",
        "model.compile(optimizer = 'adam',loss='binary_crossentropy',metrics=['accuracy'])"
      ],
      "execution_count": 11,
      "outputs": []
    },
    {
      "cell_type": "code",
      "metadata": {
        "colab": {
          "base_uri": "https://localhost:8080/"
        },
        "id": "2AlE4yy8C31c",
        "outputId": "081fb607-9926-4199-f52a-a2affb7ee1bd"
      },
      "source": [
        "model.fit(X_train,y_train,epochs=600,validation_data=(X_cv,y_cv),callbacks=[earlystop],verbose=1)"
      ],
      "execution_count": 12,
      "outputs": [
        {
          "output_type": "stream",
          "text": [
            "Epoch 1/600\n",
            "5513/5513 [==============================] - 37s 7ms/step - loss: 0.3812 - accuracy: 0.8769 - val_loss: 0.2560 - val_accuracy: 0.8769\n",
            "Epoch 2/600\n",
            "5513/5513 [==============================] - 35s 6ms/step - loss: 0.2638 - accuracy: 0.8773 - val_loss: 0.2361 - val_accuracy: 0.8769\n",
            "Epoch 3/600\n",
            "5513/5513 [==============================] - 35s 6ms/step - loss: 0.2311 - accuracy: 0.8773 - val_loss: 0.2352 - val_accuracy: 0.8769\n",
            "Epoch 4/600\n",
            "5513/5513 [==============================] - 34s 6ms/step - loss: 0.2141 - accuracy: 0.8771 - val_loss: 0.2341 - val_accuracy: 0.8769\n",
            "Epoch 5/600\n",
            "5513/5513 [==============================] - 34s 6ms/step - loss: 0.2111 - accuracy: 0.8772 - val_loss: 0.2521 - val_accuracy: 0.8769\n",
            "Epoch 6/600\n",
            "5513/5513 [==============================] - 34s 6ms/step - loss: 0.2077 - accuracy: 0.8780 - val_loss: 0.2472 - val_accuracy: 0.8769\n",
            "Epoch 7/600\n",
            "5513/5513 [==============================] - 34s 6ms/step - loss: 0.2076 - accuracy: 0.8772 - val_loss: 0.2381 - val_accuracy: 0.8769\n",
            "Epoch 8/600\n",
            "5513/5513 [==============================] - 34s 6ms/step - loss: 0.2056 - accuracy: 0.8771 - val_loss: 0.2576 - val_accuracy: 0.8769\n",
            "Epoch 9/600\n",
            "5513/5513 [==============================] - 34s 6ms/step - loss: 0.2049 - accuracy: 0.8781 - val_loss: 0.2840 - val_accuracy: 0.8769\n",
            "Epoch 10/600\n",
            "5513/5513 [==============================] - 34s 6ms/step - loss: 0.2054 - accuracy: 0.8774 - val_loss: 0.2944 - val_accuracy: 0.8769\n",
            "Epoch 11/600\n",
            "5513/5513 [==============================] - 34s 6ms/step - loss: 0.2060 - accuracy: 0.8762 - val_loss: 0.2713 - val_accuracy: 0.8769\n",
            "Epoch 12/600\n",
            "5513/5513 [==============================] - 34s 6ms/step - loss: 0.2033 - accuracy: 0.8767 - val_loss: 0.2808 - val_accuracy: 0.8769\n",
            "Epoch 13/600\n",
            "5513/5513 [==============================] - 34s 6ms/step - loss: 0.2011 - accuracy: 0.8763 - val_loss: 0.2765 - val_accuracy: 0.8769\n",
            "Epoch 14/600\n",
            "5513/5513 [==============================] - 35s 6ms/step - loss: 0.2017 - accuracy: 0.8784 - val_loss: 0.2743 - val_accuracy: 0.8769\n",
            "Epoch 15/600\n",
            "5513/5513 [==============================] - 35s 6ms/step - loss: 0.2001 - accuracy: 0.8768 - val_loss: 0.2694 - val_accuracy: 0.8769\n",
            "Epoch 16/600\n",
            "5513/5513 [==============================] - 35s 6ms/step - loss: 0.2003 - accuracy: 0.8760 - val_loss: 0.2550 - val_accuracy: 0.8769\n",
            "Epoch 17/600\n",
            "5513/5513 [==============================] - 35s 6ms/step - loss: 0.1978 - accuracy: 0.8774 - val_loss: 0.2689 - val_accuracy: 0.8769\n",
            "Epoch 18/600\n",
            "5513/5513 [==============================] - 35s 6ms/step - loss: 0.1973 - accuracy: 0.8785 - val_loss: 0.2541 - val_accuracy: 0.8769\n",
            "Epoch 19/600\n",
            "5513/5513 [==============================] - 35s 6ms/step - loss: 0.1978 - accuracy: 0.8765 - val_loss: 0.2861 - val_accuracy: 0.8769\n",
            "Epoch 20/600\n",
            "5513/5513 [==============================] - 34s 6ms/step - loss: 0.1990 - accuracy: 0.8762 - val_loss: 0.2910 - val_accuracy: 0.8769\n",
            "Epoch 21/600\n",
            "5513/5513 [==============================] - 35s 6ms/step - loss: 0.1943 - accuracy: 0.8786 - val_loss: 0.2792 - val_accuracy: 0.8769\n",
            "Epoch 22/600\n",
            "5513/5513 [==============================] - 34s 6ms/step - loss: 0.1945 - accuracy: 0.8785 - val_loss: 0.2526 - val_accuracy: 0.8769\n",
            "Epoch 23/600\n",
            "5513/5513 [==============================] - 35s 6ms/step - loss: 0.1969 - accuracy: 0.8765 - val_loss: 0.2776 - val_accuracy: 0.8769\n",
            "Epoch 24/600\n",
            "5513/5513 [==============================] - 35s 6ms/step - loss: 0.1936 - accuracy: 0.8765 - val_loss: 0.2810 - val_accuracy: 0.8769\n",
            "Epoch 25/600\n",
            "5513/5513 [==============================] - 35s 6ms/step - loss: 0.1934 - accuracy: 0.8770 - val_loss: 0.2860 - val_accuracy: 0.8769\n",
            "Epoch 26/600\n",
            "5513/5513 [==============================] - 35s 6ms/step - loss: 0.1909 - accuracy: 0.8765 - val_loss: 0.2815 - val_accuracy: 0.8769\n",
            "Epoch 27/600\n",
            "5513/5513 [==============================] - 35s 6ms/step - loss: 0.1928 - accuracy: 0.8765 - val_loss: 0.2998 - val_accuracy: 0.8769\n",
            "Epoch 28/600\n",
            "5513/5513 [==============================] - 35s 6ms/step - loss: 0.1900 - accuracy: 0.8785 - val_loss: 0.3077 - val_accuracy: 0.8769\n",
            "Epoch 29/600\n",
            "5513/5513 [==============================] - 36s 6ms/step - loss: 0.1890 - accuracy: 0.8777 - val_loss: 0.2790 - val_accuracy: 0.8769\n",
            "Epoch 00029: early stopping\n"
          ],
          "name": "stdout"
        },
        {
          "output_type": "execute_result",
          "data": {
            "text/plain": [
              "<tensorflow.python.keras.callbacks.History at 0x7f39fe11fd10>"
            ]
          },
          "metadata": {
            "tags": []
          },
          "execution_count": 12
        }
      ]
    },
    {
      "cell_type": "code",
      "metadata": {
        "colab": {
          "base_uri": "https://localhost:8080/",
          "height": 283
        },
        "id": "w7C8IgtpDFaB",
        "outputId": "a702bd4f-1a13-4683-e8a6-b832c6af8781"
      },
      "source": [
        "df_loss = pd.DataFrame(model.history.history)\n",
        "df_loss.plot()"
      ],
      "execution_count": 13,
      "outputs": [
        {
          "output_type": "execute_result",
          "data": {
            "text/plain": [
              "<matplotlib.axes._subplots.AxesSubplot at 0x7f39faf12cd0>"
            ]
          },
          "metadata": {
            "tags": []
          },
          "execution_count": 13
        },
        {
          "output_type": "display_data",
          "data": {
            "image/png": "[encoded data removed]",
            "text/plain": [
              "<Figure size 432x288 with 1 Axes>"
            ]
          },
          "metadata": {
            "tags": [],
            "needs_background": "light"
          }
        }
      ]
    },
    {
      "cell_type": "markdown",
      "metadata": {
        "id": "S0f4oFKPgtlc"
      },
      "source": [
        "# Test your model "
      ]
    },
    {
      "cell_type": "code",
      "metadata": {
        "colab": {
          "base_uri": "https://localhost:8080/"
        },
        "id": "9Z5_qY4-M5M9",
        "outputId": "36df0f03-fc75-4521-d614-e6b3a0c4f4e6"
      },
      "source": [
        "val_loss,val_acc = model.evaluate(X_cv,y_cv)\n",
        "print(val_loss)\n",
        "print(val_acc)"
      ],
      "execution_count": 43,
      "outputs": [
        {
          "output_type": "stream",
          "text": [
            "2363/2363 [==============================] - 6s 2ms/step - loss: 0.2790 - accuracy: 0.8769\n",
            "0.2789996862411499\n",
            "0.8768783211708069\n"
          ],
          "name": "stdout"
        }
      ]
    },
    {
      "cell_type": "code",
      "metadata": {
        "id": "AZpft8vaJrrU"
      },
      "source": [
        "pred = np.argmax(model.predict(X_cv),-1)"
      ],
      "execution_count": 15,
      "outputs": []
    },
    {
      "cell_type": "markdown",
      "metadata": {
        "id": "a5tSW4I6gtlf"
      },
      "source": [
        "# Check your roc_auc_score "
      ]
    },
    {
      "cell_type": "code",
      "metadata": {
        "colab": {
          "base_uri": "https://localhost:8080/"
        },
        "id": "pAZXLVGQgtlf",
        "outputId": "0515fbfc-9820-4d10-ccb2-62b4bce9ad8e"
      },
      "source": [
        "THRESHOLD = 0.05\n",
        "pred = np.where(model.predict_proba(X_cv) > THRESHOLD, 1, 0)\n",
        "\n",
        "from sklearn.metrics import roc_auc_score,accuracy_score,confusion_matrix,classification_report\n",
        "\n",
        "print(roc_auc_score(y_cv,pred))\n",
        "print()\n",
        "print(accuracy_score(y_cv,pred))\n",
        "print()\n",
        "print(confusion_matrix(y_cv,pred))\n",
        "print()\n",
        "print(classification_report(y_cv,pred))"
      ],
      "execution_count": 44,
      "outputs": [
        {
          "output_type": "stream",
          "text": [
            "/usr/local/lib/python3.7/dist-packages/tensorflow/python/keras/engine/sequential.py:425: UserWarning: `model.predict_proba()` is deprecated and will be removed after 2021-01-01. Please use `model.predict()` instead.\n",
            "  warnings.warn('`model.predict_proba()` is deprecated and '\n"
          ],
          "name": "stderr"
        },
        {
          "output_type": "stream",
          "text": [
            "0.8639547510122487\n",
            "\n",
            "0.8525925925925926\n",
            "\n",
            "[[56274 10018]\n",
            " [ 1126  8182]]\n",
            "\n",
            "              precision    recall  f1-score   support\n",
            "\n",
            "           0       0.98      0.85      0.91     66292\n",
            "           1       0.45      0.88      0.59      9308\n",
            "\n",
            "    accuracy                           0.85     75600\n",
            "   macro avg       0.71      0.86      0.75     75600\n",
            "weighted avg       0.92      0.85      0.87     75600\n",
            "\n"
          ],
          "name": "stdout"
        }
      ]
    },
    {
      "cell_type": "code",
      "metadata": {
        "colab": {
          "base_uri": "https://localhost:8080/"
        },
        "id": "rdYyVzCJNn2P",
        "outputId": "60cc0683-e667-4226-cf71-c23e4090764d"
      },
      "source": [
        "THRESHOLD = 0.05\n",
        "pred = np.where(model.predict_proba(df_test) > THRESHOLD, 1, 0)"
      ],
      "execution_count": 47,
      "outputs": [
        {
          "output_type": "stream",
          "text": [
            "/usr/local/lib/python3.7/dist-packages/tensorflow/python/keras/engine/sequential.py:425: UserWarning: `model.predict_proba()` is deprecated and will be removed after 2021-01-01. Please use `model.predict()` instead.\n",
            "  warnings.warn('`model.predict_proba()` is deprecated and '\n"
          ],
          "name": "stderr"
        }
      ]
    },
    {
      "cell_type": "code",
      "metadata": {
        "id": "62L99igLNH_X"
      },
      "source": [
        "pred = pd.DataFrame(pred)\n",
        "index = pd.DataFrame(range(1,28001))\n",
        "index = pd.concat([index,pred],axis=1)\n",
        "index.columns = ['id','risk_flag']\n",
        "index.set_index('id',inplace=True)\n",
        "index.to_csv('result_6.csv')"
      ],
      "execution_count": 48,
      "outputs": []
    },
    {
      "cell_type": "code",
      "metadata": {
        "colab": {
          "base_uri": "https://localhost:8080/",
          "height": 450
        },
        "id": "1B65eOCCNgNp",
        "outputId": "3a3a1145-fd12-45d1-f8bd-09bf4e3a0114"
      },
      "source": [
        "index"
      ],
      "execution_count": 49,
      "outputs": [
        {
          "output_type": "execute_result",
          "data": {
            "text/html": [
              "<div>\n",
              "<style scoped>\n",
              "    .dataframe tbody tr th:only-of-type {\n",
              "        vertical-align: middle;\n",
              "    }\n",
              "\n",
              "    .dataframe tbody tr th {\n",
              "        vertical-align: top;\n",
              "    }\n",
              "\n",
              "    .dataframe thead th {\n",
              "        text-align: right;\n",
              "    }\n",
              "</style>\n",
              "<table border=\"1\" class=\"dataframe\">\n",
              "  <thead>\n",
              "    <tr style=\"text-align: right;\">\n",
              "      <th></th>\n",
              "      <th>risk_flag</th>\n",
              "    </tr>\n",
              "    <tr>\n",
              "      <th>id</th>\n",
              "      <th></th>\n",
              "    </tr>\n",
              "  </thead>\n",
              "  <tbody>\n",
              "    <tr>\n",
              "      <th>1</th>\n",
              "      <td>0</td>\n",
              "    </tr>\n",
              "    <tr>\n",
              "      <th>2</th>\n",
              "      <td>0</td>\n",
              "    </tr>\n",
              "    <tr>\n",
              "      <th>3</th>\n",
              "      <td>0</td>\n",
              "    </tr>\n",
              "    <tr>\n",
              "      <th>4</th>\n",
              "      <td>1</td>\n",
              "    </tr>\n",
              "    <tr>\n",
              "      <th>5</th>\n",
              "      <td>0</td>\n",
              "    </tr>\n",
              "    <tr>\n",
              "      <th>...</th>\n",
              "      <td>...</td>\n",
              "    </tr>\n",
              "    <tr>\n",
              "      <th>27996</th>\n",
              "      <td>0</td>\n",
              "    </tr>\n",
              "    <tr>\n",
              "      <th>27997</th>\n",
              "      <td>0</td>\n",
              "    </tr>\n",
              "    <tr>\n",
              "      <th>27998</th>\n",
              "      <td>0</td>\n",
              "    </tr>\n",
              "    <tr>\n",
              "      <th>27999</th>\n",
              "      <td>1</td>\n",
              "    </tr>\n",
              "    <tr>\n",
              "      <th>28000</th>\n",
              "      <td>1</td>\n",
              "    </tr>\n",
              "  </tbody>\n",
              "</table>\n",
              "<p>28000 rows × 1 columns</p>\n",
              "</div>"
            ],
            "text/plain": [
              "       risk_flag\n",
              "id              \n",
              "1              0\n",
              "2              0\n",
              "3              0\n",
              "4              1\n",
              "5              0\n",
              "...          ...\n",
              "27996          0\n",
              "27997          0\n",
              "27998          0\n",
              "27999          1\n",
              "28000          1\n",
              "\n",
              "[28000 rows x 1 columns]"
            ]
          },
          "metadata": {
            "tags": []
          },
          "execution_count": 49
        }
      ]
    }
  ]
}